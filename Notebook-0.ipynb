{
    "metadata": {
        "kernelspec": {
            "name": "SQL",
            "display_name": "SQL",
            "language": "sql"
        },
        "language_info": {
            "name": "sql",
            "version": ""
        },
        "extensions": {
            "azuredatastudio": {
                "version": 1,
                "views": []
            }
        }
    },
    "nbformat_minor": 2,
    "nbformat": 4,
    "cells": [
        {
            "cell_type": "markdown",
            "source": [
                "# Schéma\n",
                "\n",
                "un schéma permet de grouper des tables de même nature pour gérer les permissions plus efficacement.  \n",
                "  \n",
                "Traditionnellement on va avoir deux schémas différents : \n",
                "\n",
                "\\- data --\\> Lecture écriture\n",
                "\n",
                "  \n",
                "\n",
                "\\- réf --\\> Lecture seule"
            ],
            "metadata": {
                "azdata_cell_guid": "f43a87f7-f925-441e-8d00-d7637be78b99"
            },
            "attachments": {}
        },
        {
            "cell_type": "code",
            "source": [
                "IF (EXISTS (\r\n",
                "    SELECT [name]\r\n",
                "    FROM [master].[sys].[databases]\r\n",
                "    WHERE [name] = 'Forum'))\r\n",
                "        DROP DATABASE [Forum]\r\n",
                "    \r\n",
                "CREATE DATABASE [Forum]\r\n",
                "\r\n",
                "GO \r\n",
                "USE [Forum]"
            ],
            "metadata": {
                "azdata_cell_guid": "5bd5873b-22df-4440-8855-b0bdd7aeb540",
                "tags": []
            },
            "outputs": [],
            "execution_count": null
        },
        {
            "cell_type": "code",
            "source": [
                "CREATE SCHEMA [data]\r\n",
                "GO\r\n",
                "CREATE SCHEMA [ref]\r\n",
                "GO"
            ],
            "metadata": {
                "azdata_cell_guid": "80f103b3-ea2c-4364-9146-768aea0603f7",
                "tags": []
            },
            "outputs": [],
            "execution_count": null
        },
        {
            "cell_type": "markdown",
            "source": [
                "# Création de tables"
            ],
            "metadata": {
                "azdata_cell_guid": "4f2e355a-bd99-4ae0-8d98-ddf3204a511f"
            },
            "attachments": {}
        },
        {
            "cell_type": "code",
            "source": [
                "CREATE TABLE [data].[Utilisateur_UTL] (\r\n",
                "    [Id] BIGINT NOT NULL PRIMARY KEY IDENTITY (1, 1),\r\n",
                "[Login]  NVARCHAR(50) NOT NULL UNIQUE,\r\n",
                "[Password] NVARCHAR(MAX) NOT NULL,\r\n",
                "[CreatedAt] DATETIME NOT NULL DEFAULT GETDATE(),\r\n",
                "[UpdateAt] DATETIME NOT NULL DEFAULT GETDATE()\r\n",
                ")"
            ],
            "metadata": {
                "azdata_cell_guid": "3a17e730-42d3-4a2c-a7b1-507df9901464"
            },
            "outputs": [],
            "execution_count": null
        },
        {
            "cell_type": "code",
            "source": [
                "CREATE TABLE [ref].[Role_ROL](\r\n",
                "[Id] SMALLINT NOT NULL PRIMARY KEY IDENTITY (1, 1),\r\n",
                "[name]NVARCHAR (50) NOT NULL UNIQUE,\r\n",
                ")\r\n",
                "INSERT INTO [ref].[Role_ROL] ([name]) \r\n",
                "VALUES ('admin'),('moderateur'),('analyste'),('utilisateur'),('visiteur'),('banni')"
            ],
            "metadata": {
                "azdata_cell_guid": "341d190d-69c4-45d5-99ff-7168b86c9b9b"
            },
            "outputs": [],
            "execution_count": null
        },
        {
            "cell_type": "code",
            "source": [
                "CREATE TABLE [ref].[Permission_PERMS](\r\n",
                "    [Id] SMALLINT NOT NULL PRIMARY KEY IDENTITY(1,1),\r\n",
                "    [Label] NVARCHAR(50) NOT NULL UNIQUE,\r\n",
                ")\r\n",
                "INSERT INTO [ref].[Permission_PERMS] ([Label]) \r\n",
                "VALUES ('se connecter'),('créer catégorie'),('créer topic'),('restreindre topic')"
            ],
            "metadata": {
                "azdata_cell_guid": "d4928b36-247d-4e63-8197-06cbe3d2243f",
                "tags": []
            },
            "outputs": [],
            "execution_count": null
        },
        {
            "cell_type": "code",
            "source": [
                "CREATE TABLE [ref].[UtilisateurRole_UTL](\r\n",
                "    [IdUTL] BIGINT,\r\n",
                "    [IdRol] SMALLINT,\r\n",
                "    PRIMARY KEY ([IdUtl],[IdRol]),\r\n",
                "    FOREIGN KEY ([IdUTL]) REFERENCES [data].[Utilisateur_UTL]([Id]),\r\n",
                "    FOREIGN KEY ([IdRol]) REFERENCES [ref].[Role_ROL]([Id])\r\n",
                ")"
            ],
            "metadata": {
                "azdata_cell_guid": "96456ece-92dc-4877-8d3e-ab55a0f437ba",
                "tags": []
            },
            "outputs": [],
            "execution_count": null
        },
        {
            "cell_type": "code",
            "source": [
                "CREATE TABLE [ref].[Role_Permission_RP](\r\n",
                "    [IdRol] SMALLINT,\r\n",
                "    [IdPerms] SMALLINT,\r\n",
                "    PRIMARY KEY ([IdRol],[IdPerms]),\r\n",
                "    FOREIGN KEY ([IdRol]) REFERENCES [ref].[Role_ROL]([Id]),\r\n",
                "    FOREIGN KEY ([IdPerms]) REFERENCES [ref].[Permission_PERMS]([Id])\r\n",
                ")\r\n",
                ""
            ],
            "metadata": {
                "azdata_cell_guid": "5c8f2a37-3011-44e9-97f6-8e4dc4b403e5"
            },
            "outputs": [],
            "execution_count": null
        },
        {
            "cell_type": "markdown",
            "source": [
                "# DROP TABLE"
            ],
            "metadata": {
                "azdata_cell_guid": "6409da5c-a396-4a44-ba07-85235fa4ce8b"
            },
            "attachments": {}
        },
        {
            "cell_type": "code",
            "source": [
                "DROP TABLE [ref].[Role_ROL]"
            ],
            "metadata": {
                "azdata_cell_guid": "017b744c-eacb-4264-a246-f7138d4dd204"
            },
            "outputs": [],
            "execution_count": null
        },
        {
            "cell_type": "code",
            "source": [
                "DROP TABLE [ref].[Permission_PERMS]"
            ],
            "metadata": {
                "azdata_cell_guid": "48cd806f-1942-4795-aceb-82eae3ff0619"
            },
            "outputs": [],
            "execution_count": null
        },
        {
            "cell_type": "code",
            "source": [
                "DROP TABLE [ref].[Role_Permission_RP]"
            ],
            "metadata": {
                "azdata_cell_guid": "95174a66-b775-497a-94d0-757d0a6dceab"
            },
            "outputs": [],
            "execution_count": null
        }
    ]
}